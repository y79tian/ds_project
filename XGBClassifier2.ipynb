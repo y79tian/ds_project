{
 "cells": [
  {
   "cell_type": "markdown",
   "metadata": {},
   "source": [
    "## PIR89 ['30 min', '1 h', '3 h']"
   ]
  },
  {
   "cell_type": "markdown",
   "metadata": {},
   "source": [
    "agg = {\n",
    "        'acc_x': [np.std, skew],\n",
    "        'acc_y': [np.std, skew],\n",
    "        'acc_z': [np.std, skew],\n",
    "        'heartrate': [np.mean, np.std, skew],\n",
    "        'conductance': [np.mean, np.std, skew],\n",
    "        'temperature': [np.mean, np.std, skew],\n",
    "        'bvp': [np.mean, np.std, skew],\n",
    "    }"
   ]
  },
  {
   "cell_type": "code",
   "execution_count": 38,
   "metadata": {},
   "outputs": [],
   "source": [
    "import datetime\n",
    "import logging\n",
    "import numpy as np\n",
    "import pandas as pd\n",
    "import sklearn.metrics\n",
    "import xgboost\n",
    "\n",
    "from ds_utils import aggregators\n",
    "from ds_utils import e4\n",
    "\n",
    "def test_xgb(df: pd.DataFrame, model: xgboost.XGBClassifier) -> np.ndarray:\n",
    "    \"\"\"Make predictions from a trained xgboost model on aggregated data\n",
    "    Args:\n",
    "        df (pd.DataFrame): test dataframe\n",
    "        model (xgboost.XGBClassifier): trained model\n",
    "    Returns:\n",
    "        np.ndarray: the predicted values\n",
    "    \n",
    "    \"\"\"\n",
    "    X = df.drop(columns=['craving_onset', '_window_end']).values\n",
    "    Y = df['craving_onset'].map({True: 1, False: 0}).values\n",
    "\n",
    "    Y_pred = model.predict(X)\n",
    "    predictions = [round(value) for value in Y_pred]   \n",
    "     \n",
    "    accuracy = sklearn.metrics.accuracy_score(Y, Y_pred)\n",
    "    print(\"Accuracy: %.2f%%\" % (accuracy * 100.0))\n",
    "    return Y_pred\n",
    "    "
   ]
  },
  {
   "cell_type": "code",
   "execution_count": 39,
   "metadata": {},
   "outputs": [],
   "source": [
    "df1 = pd.read_csv(\"./data/agg_data89p1.csv\")\n",
    "df2 = pd.read_csv(\"./data/agg_data89p2.csv\")\n",
    "df3 = pd.read_csv(\"./data/agg_data89p3.csv\")\n",
    "test = pd.read_csv(\"./data/agg_data89p4.csv\")"
   ]
  },
  {
   "cell_type": "code",
   "execution_count": 40,
   "metadata": {},
   "outputs": [],
   "source": [
    "df_list = [df1, df2, df3]\n",
    "data = pd.concat(df_list, axis = 0)"
   ]
  },
  {
   "cell_type": "code",
   "execution_count": 41,
   "metadata": {},
   "outputs": [],
   "source": [
    "data.columns\n",
    "data = data.drop(columns = ['_window_end'])"
   ]
  },
  {
   "cell_type": "code",
   "execution_count": 42,
   "metadata": {},
   "outputs": [],
   "source": [
    "X = data.drop(columns=['craving_onset']).values\n",
    "Y = data['craving_onset'].map({True: 1, z: 0}).values"
   ]
  },
  {
   "cell_type": "code",
   "execution_count": 49,
   "metadata": {},
   "outputs": [
    {
     "name": "stdout",
     "output_type": "stream",
     "text": [
      "[12:59:54] WARNING: /Users/travis/build/dmlc/xgboost/src/learner.cc:541: \n",
      "Parameters: { earlyStoppingRounds, learningRate, maxDepth, numIters, testRatio } might not be used.\n",
      "\n",
      "  This may not be accurate due to some parameters are only used in language bindings but\n",
      "  passed down to XGBoost core.  Or some parameters are not used but slip through this\n",
      "  verification. Please open an issue if you find above cases.\n",
      "\n",
      "\n",
      "[12:59:54] WARNING: /Users/travis/build/dmlc/xgboost/src/learner.cc:1061: Starting in XGBoost 1.3.0, the default evaluation metric used with the objective 'binary:logistic' was changed from 'error' to 'logloss'. Explicitly set eval_metric if you'd like to restore the old behavior.\n"
     ]
    },
    {
     "data": {
      "text/plain": [
       "XGBClassifier(base_score=0.5, booster='gbtree', colsample_bylevel=1,\n",
       "              colsample_bynode=1, colsample_bytree=0.3, earlyStoppingRounds=8,\n",
       "              gamma=0, gpu_id=-1, importance_type='gain',\n",
       "              interaction_constraints='', learningRate=0.15,\n",
       "              learning_rate=0.300000012, maxDepth=9, max_delta_step=0,\n",
       "              max_depth=6, min_child_weight=1, missing=nan,\n",
       "              monotone_constraints='()', n_estimators=100, n_jobs=8,\n",
       "              numIters=100, num_parallel_tree=1, random_state=0, reg_alpha=0,\n",
       "              reg_lambda=1, scale_pos_weight=1, subsample=0.9, testRatio=0.2,\n",
       "              tree_method='exact', validate_parameters=1, ...)"
      ]
     },
     "execution_count": 49,
     "metadata": {},
     "output_type": "execute_result"
    }
   ],
   "source": [
    "model = xgboost.XGBClassifier()\n",
    "model.fit(X, Y)"
   ]
  },
  {
   "cell_type": "code",
   "execution_count": 51,
   "metadata": {},
   "outputs": [
    {
     "name": "stdout",
     "output_type": "stream",
     "text": [
      "Accuracy: 49.93%\n"
     ]
    }
   ],
   "source": [
    "pred = test_xgb(test, model)"
   ]
  },
  {
   "cell_type": "code",
   "execution_count": 48,
   "metadata": {},
   "outputs": [
    {
     "data": {
      "text/plain": [
       "array([0.00068919, 0.00125908, 0.00096237, 0.00036883, 0.00117588,\n",
       "       0.0005808 , 0.00108941, 0.01181771, 0.0021724 , 0.00429166,\n",
       "       0.00944238, 0.00817777, 0.00301394, 0.0029753 , 0.00435416,\n",
       "       0.00180719, 0.01184864, 0.01160891, 0.00366415, 0.01129359,\n",
       "       0.02594897, 0.04727761, 0.00656796, 0.01311824, 0.0039641 ,\n",
       "       0.06901521, 0.00726602, 0.01963148, 0.00599036, 0.0031177 ,\n",
       "       0.05365263, 0.00436555, 0.00637273, 0.02147398, 0.01146913,\n",
       "       0.00897142, 0.02706167, 0.01074139, 0.0101092 , 0.02977097,\n",
       "       0.02311781, 0.00458653, 0.03369442, 0.01633362, 0.03912577,\n",
       "       0.00510528, 0.06699607, 0.01143702, 0.00744526, 0.01824276,\n",
       "       0.03359954, 0.01657909, 0.01541454, 0.00298442, 0.09677815,\n",
       "       0.01118011, 0.00602092, 0.00977504, 0.059619  , 0.03755657,\n",
       "       0.00592839], dtype=float32)"
      ]
     },
     "execution_count": 48,
     "metadata": {},
     "output_type": "execute_result"
    }
   ],
   "source": [
    "model.feature_importances_"
   ]
  },
  {
   "cell_type": "code",
   "execution_count": 47,
   "metadata": {},
   "outputs": [
    {
     "data": {
      "text/plain": [
       "Index(['acc_x', 'acc_y', 'acc_z', 'bvp', 'conductance', 'heartrate',\n",
       "       'temperature', 'craving_onset', 'acc_x_30min__std', 'acc_x_30min__skew',\n",
       "       'acc_y_30min__std', 'acc_y_30min__skew', 'acc_z_30min__std',\n",
       "       'acc_z_30min__skew', 'heartrate_30min__mean', 'heartrate_30min__std',\n",
       "       'heartrate_30min__skew', 'conductance_30min__mean',\n",
       "       'conductance_30min__std', 'conductance_30min__skew',\n",
       "       'temperature_30min__mean', 'temperature_30min__std',\n",
       "       'temperature_30min__skew', 'bvp_30min__mean', 'bvp_30min__std',\n",
       "       'bvp_30min__skew', 'acc_x_1h__std', 'acc_x_1h__skew', 'acc_y_1h__std',\n",
       "       'acc_y_1h__skew', 'acc_z_1h__std', 'acc_z_1h__skew',\n",
       "       'heartrate_1h__mean', 'heartrate_1h__std', 'heartrate_1h__skew',\n",
       "       'conductance_1h__mean', 'conductance_1h__std', 'conductance_1h__skew',\n",
       "       'temperature_1h__mean', 'temperature_1h__std', 'temperature_1h__skew',\n",
       "       'bvp_1h__mean', 'bvp_1h__std', 'bvp_1h__skew', 'acc_x_3h__std',\n",
       "       'acc_x_3h__skew', 'acc_y_3h__std', 'acc_y_3h__skew', 'acc_z_3h__std',\n",
       "       'acc_z_3h__skew', 'heartrate_3h__mean', 'heartrate_3h__std',\n",
       "       'heartrate_3h__skew', 'conductance_3h__mean', 'conductance_3h__std',\n",
       "       'conductance_3h__skew', 'temperature_3h__mean', 'temperature_3h__std',\n",
       "       'temperature_3h__skew', 'bvp_3h__mean', 'bvp_3h__std', 'bvp_3h__skew'],\n",
       "      dtype='object')"
      ]
     },
     "execution_count": 47,
     "metadata": {},
     "output_type": "execute_result"
    }
   ],
   "source": [
    "data.columns"
   ]
  },
  {
   "cell_type": "code",
   "execution_count": null,
   "metadata": {},
   "outputs": [],
   "source": []
  },
  {
   "cell_type": "code",
   "execution_count": null,
   "metadata": {},
   "outputs": [],
   "source": []
  }
 ],
 "metadata": {
  "kernelspec": {
   "display_name": "Python 3",
   "language": "python",
   "name": "python3"
  },
  "language_info": {
   "codemirror_mode": {
    "name": "ipython",
    "version": 3
   },
   "file_extension": ".py",
   "mimetype": "text/x-python",
   "name": "python",
   "nbconvert_exporter": "python",
   "pygments_lexer": "ipython3",
   "version": "3.8.3"
  }
 },
 "nbformat": 4,
 "nbformat_minor": 4
}
